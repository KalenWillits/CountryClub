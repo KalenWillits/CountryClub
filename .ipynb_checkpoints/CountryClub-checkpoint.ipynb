{
 "cells": [
  {
   "cell_type": "markdown",
   "metadata": {
    "nteract": {
     "transient": {
      "deleting": false
     }
    }
   },
   "source": []
  },
  {
   "cell_type": "markdown",
   "metadata": {
    "nteract": {
     "transient": {
      "deleting": false
     }
    }
   },
   "source": [
    "\n",
    "/* QUESTIONS\n",
    "/* Q1: Some of the facilities charge a fee to members, but some do not.\n",
    "Write a SQL query to produce a list of the names of the facilities that do. */\n"
   ]
  },
  {
   "cell_type": "code",
   "execution_count": null,
   "metadata": {
    "collapsed": true,
    "jupyter": {
     "outputs_hidden": false,
     "source_hidden": false
    },
    "nteract": {
     "transient": {
      "deleting": false
     }
    }
   },
   "outputs": [],
   "source": [
    "\n",
    "SELECT name\n",
    "FROM `Facilities`\n",
    "WHERE membercost >0\n",
    "#"
   ]
  },
  {
   "cell_type": "markdown",
   "metadata": {
    "nteract": {
     "transient": {
      "deleting": false
     }
    }
   },
   "source": [
    "\n",
    "/* Q2: How many facilities do not charge a fee to members? */\n"
   ]
  },
  {
   "cell_type": "code",
   "execution_count": null,
   "metadata": {
    "collapsed": true,
    "jupyter": {
     "outputs_hidden": false,
     "source_hidden": false
    },
    "nteract": {
     "transient": {
      "deleting": false
     }
    }
   },
   "outputs": [],
   "source": [
    "\n",
    "SELECT COUNT(name)\n",
    "FROM `Facilities`\n",
    "WHERE membercost = 0\n",
    "#"
   ]
  },
  {
   "cell_type": "markdown",
   "metadata": {
    "nteract": {
     "transient": {
      "deleting": false
     }
    }
   },
   "source": [
    "\n",
    "/* Q3: Write an SQL query to show a list of facilities that charge a fee to members,\n",
    "where the fee is less than 20% of the facility's monthly maintenance cost.\n",
    "Return the facid, facility name, member cost, and monthly maintenance of the\n",
    "facilities in question. */\n"
   ]
  },
  {
   "cell_type": "code",
   "execution_count": null,
   "metadata": {
    "collapsed": true,
    "jupyter": {
     "outputs_hidden": false,
     "source_hidden": false
    },
    "nteract": {
     "transient": {
      "deleting": false
     }
    }
   },
   "outputs": [],
   "source": [
    "\n",
    "SELECT facid, name, membercost, monthlymaintenance\n",
    "FROM Facilities\n",
    "WHERE membercost > (monthlymaintenance*0.20)\n",
    "#"
   ]
  },
  {
   "cell_type": "markdown",
   "metadata": {
    "nteract": {
     "transient": {
      "deleting": false
     }
    }
   },
   "source": [
    "\n",
    "/* Q4: Write an SQL query to retrieve the details of facilities with ID 1 and 5.\n",
    "Try writing the query without using the OR operator. */\n"
   ]
  },
  {
   "cell_type": "code",
   "execution_count": null,
   "metadata": {
    "collapsed": true,
    "jupyter": {
     "outputs_hidden": false,
     "source_hidden": false
    },
    "nteract": {
     "transient": {
      "deleting": false
     }
    }
   },
   "outputs": [],
   "source": [
    "\n",
    "\n",
    "CASE facid\n",
    "WHEN 1 THEN 1\n",
    "WHEN 2 THEN 2\n",
    "END\n",
    "FROM Facilities\n",
    "\n",
    "#"
   ]
  },
  {
   "cell_type": "markdown",
   "metadata": {
    "nteract": {
     "transient": {
      "deleting": false
     }
    }
   },
   "source": [
    "\n",
    "/* Q5: Produce a list of facilities, with each labelled as\n",
    "'cheap' or 'expensive', depending on if their monthly maintenance cost is\n",
    "more than $100. Return the name and monthly maintenance of the facilities\n",
    "in question. */\n",
    "\n"
   ]
  },
  {
   "cell_type": "code",
   "execution_count": null,
   "metadata": {
    "collapsed": true,
    "jupyter": {
     "outputs_hidden": false,
     "source_hidden": false
    },
    "nteract": {
     "transient": {
      "deleting": false
     }
    }
   },
   "outputs": [],
   "source": [
    "\n",
    "SELECT name, monthlymaintenance,\n",
    "CASE\n",
    "\tWHEN monthlymaintenance < 100 THEN 'cheap'\n",
    "\tWHEN monthlymaintenance > 100 THEN 'expensive'\n",
    "\tEND AS CostType\n",
    "FROM Facilities\n",
    "\n",
    "#"
   ]
  },
  {
   "cell_type": "markdown",
   "metadata": {
    "nteract": {
     "transient": {
      "deleting": false
     }
    }
   },
   "source": [
    "\n",
    "/* Q6: You'd like to get the first and last name of the last member(s)\n",
    "who signed up. Try not to use the LIMIT clause for your solution. */\n",
    "\n"
   ]
  },
  {
   "cell_type": "code",
   "execution_count": null,
   "metadata": {
    "collapsed": true,
    "jupyter": {
     "outputs_hidden": false,
     "source_hidden": false
    },
    "nteract": {
     "transient": {
      "deleting": false
     }
    }
   },
   "outputs": [],
   "source": [
    "\n",
    "SELECT firstname, surname\n",
    "FROM `Members`\n",
    "WHERE YEAR(joindate) >= 2012 AND MONTH(joindate) >= 9 AND DAY(joindate) >= 25;\n",
    "\n",
    "#"
   ]
  },
  {
   "cell_type": "markdown",
   "metadata": {
    "nteract": {
     "transient": {
      "deleting": false
     }
    }
   },
   "source": [
    "\n",
    "/* Q7: Produce a list of all members who have used a tennis court.\n",
    "Include in your output the name of the court, and the name of the member\n",
    "formatted as a single column. Ensure no duplicate data, and order by\n",
    "the member name. */\n",
    "\n"
   ]
  },
  {
   "cell_type": "code",
   "execution_count": null,
   "metadata": {
    "collapsed": true,
    "jupyter": {
     "outputs_hidden": false,
     "source_hidden": false
    },
    "nteract": {
     "transient": {
      "deleting": false
     }
    }
   },
   "outputs": [],
   "source": [
    "\n",
    "SELECT DISTINCT CONCAT(m.firstname,' ', m.surname,' ', f.name )\n",
    "FROM Bookings AS b\n",
    "LEFT JOIN Facilities AS f\n",
    "ON b.facid = f.facid\n",
    "LEFT JOIN Members AS m\n",
    "ON b.memid = m.memid\n",
    "WHERE f.name LIKE 'Tennis Court%'\n",
    "ORDER BY m.surname\n",
    "\n",
    "#"
   ]
  },
  {
   "cell_type": "markdown",
   "metadata": {
    "nteract": {
     "transient": {
      "deleting": false
     }
    }
   },
   "source": [
    "\n",
    "/* Q8: Produce a list of bookings on the day of 2012-09-14 which\n",
    "will cost the member (or guest) more than $30. Remember that guests have\n",
    "different costs to members (the listed costs are per half-hour 'slot'), and\n",
    "the guest user's ID is always 0. Include in your output the name of the\n",
    "facility, the name of the member formatted as a single column, and the cost.\n",
    "Order by descending cost, and do not use any subqueries. */\n",
    "\n"
   ]
  },
  {
   "cell_type": "code",
   "execution_count": null,
   "metadata": {
    "collapsed": true,
    "jupyter": {
     "outputs_hidden": false,
     "source_hidden": false
    },
    "nteract": {
     "transient": {
      "deleting": false
     }
    }
   },
   "outputs": [],
   "source": [
    "\n",
    "SELECT f.name AS Facility, CONCAT(m.firstname, ' ', m.surname) AS Name, CONCAT(f.membercost,'/', f.guestcost) AS cost\n",
    "\tFROM Bookings AS b\n",
    "\tINNER JOIN Facilities AS f\n",
    "\tON b.facid= f.facid\n",
    "\tINNER JOIN Members AS m\n",
    "     ON b.memid = m.memid WHERE b.starttime LIKE '2012-09-14%' AND (f.membercost > 30 OR f.guestcost > 30)\n",
    "GROUP BY Cost DESC\n",
    "\n",
    "\n",
    "#"
   ]
  },
  {
   "cell_type": "markdown",
   "metadata": {
    "nteract": {
     "transient": {
      "deleting": false
     }
    }
   },
   "source": [
    "\n",
    "/* Q9: This time, produce the same result as in Q8, but using a subquery. */\n",
    "\n"
   ]
  },
  {
   "cell_type": "code",
   "execution_count": null,
   "metadata": {
    "collapsed": true,
    "jupyter": {
     "outputs_hidden": false,
     "source_hidden": false
    },
    "nteract": {
     "transient": {
      "deleting": false
     }
    }
   },
   "outputs": [],
   "source": [
    "\n",
    "SELECT * FROM\n",
    "(SELECT f.name AS Facility, CONCAT(m.firstname, ' ', m.surname) AS Name, f.membercost AS Cost\n",
    "\tFROM Bookings AS b\n",
    "\tINNER JOIN Facilities AS f\n",
    "\tON b.facid = f.facid\n",
    "\tINNER JOIN Members AS m\n",
    "     ON b.memid = m.memid WHERE b.starttime LIKE '2012-09-14%'\n",
    "UNION\n",
    "SELECT f.name AS Facility, CONCAT(m.firstname, ' ', m.surname) AS Name, f.guestcost AS Cost\n",
    "\tFROM Bookings AS b\n",
    "\tINNER JOIN Facilities AS f\n",
    "\tON b.facid = f.facid\n",
    "\tINNER JOIN Members AS m\n",
    "     ON b.memid = m.memid\n",
    "             WHERE b.starttime LIKE '2012-09-14%') AS df\n",
    "WHERE df.Cost > 30\n",
    "GROUP BY df.Cost DESC;\n",
    "#"
   ]
  },
  {
   "cell_type": "markdown",
   "metadata": {
    "nteract": {
     "transient": {
      "deleting": false
     }
    }
   },
   "source": [
    "____________________________________________________________________\n",
    "/* PART 2: SQLite\n",
    "\n",
    "Export the country club data from PHPMyAdmin, and connect to a local SQLite instance from Jupyter notebook\n",
    "for the following questions.\n"
   ]
  },
  {
   "cell_type": "code",
   "execution_count": 2,
   "metadata": {
    "jupyter": {
     "outputs_hidden": false,
     "source_hidden": false
    },
    "nteract": {
     "transient": {
      "deleting": false
     }
    }
   },
   "outputs": [],
   "source": [
    "import pandas as pd\n",
    "import sqlite3\n",
    "path = 'data/'\n",
    "file = 'cc.db'\n",
    "def query(query, file, path=''):\n",
    "\t\"\"\"Simple sqlite query function that returns the SQL query as a Pandas DataFrame\"\"\"\n",
    "\twith sqlite3.connect(path+file) as connection:\n",
    "\t\tcursor = connection.cursor()\n",
    "\t\tquery = cursor.execute(query)\n",
    "\t\treturn pd.DataFrame(query)\n",
    "#"
   ]
  },
  {
   "cell_type": "markdown",
   "metadata": {
    "nteract": {
     "transient": {
      "deleting": false
     }
    }
   },
   "source": [
    "____________________________________________________________________\n",
    "QUESTIONS:\n",
    "/* Q10: Produce a list of facilities with a total revenue less than 1000.\n",
    "The output of facility name and total revenue, sorted by revenue. Remember\n",
    "that there's a different cost for guests and members! */\n"
   ]
  },
  {
   "cell_type": "code",
   "execution_count": 3,
   "metadata": {
    "jupyter": {
     "outputs_hidden": false,
     "source_hidden": false
    },
    "nteract": {
     "transient": {
      "deleting": false
     }
    }
   },
   "outputs": [
    {
     "data": {
      "text/html": [
       "<div>\n",
       "<style scoped>\n",
       "    .dataframe tbody tr th:only-of-type {\n",
       "        vertical-align: middle;\n",
       "    }\n",
       "\n",
       "    .dataframe tbody tr th {\n",
       "        vertical-align: top;\n",
       "    }\n",
       "\n",
       "    .dataframe thead th {\n",
       "        text-align: right;\n",
       "    }\n",
       "</style>\n",
       "<table border=\"1\" class=\"dataframe\">\n",
       "  <thead>\n",
       "    <tr style=\"text-align: right;\">\n",
       "      <th></th>\n",
       "      <th>Facility</th>\n",
       "      <th>Revenue</th>\n",
       "    </tr>\n",
       "  </thead>\n",
       "  <tbody>\n",
       "    <tr>\n",
       "      <th>0</th>\n",
       "      <td>Squash Court</td>\n",
       "      <td>682.5</td>\n",
       "    </tr>\n",
       "    <tr>\n",
       "      <th>1</th>\n",
       "      <td>Massage Room 2</td>\n",
       "      <td>267.3</td>\n",
       "    </tr>\n",
       "    <tr>\n",
       "      <th>2</th>\n",
       "      <td>Table Tennis</td>\n",
       "      <td>90.0</td>\n",
       "    </tr>\n",
       "    <tr>\n",
       "      <th>3</th>\n",
       "      <td>Snooker Table</td>\n",
       "      <td>115.0</td>\n",
       "    </tr>\n",
       "    <tr>\n",
       "      <th>4</th>\n",
       "      <td>Pool Table</td>\n",
       "      <td>265.0</td>\n",
       "    </tr>\n",
       "    <tr>\n",
       "      <th>5</th>\n",
       "      <td>Badminton Court</td>\n",
       "      <td>604.5</td>\n",
       "    </tr>\n",
       "  </tbody>\n",
       "</table>\n",
       "</div>"
      ],
      "text/plain": [
       "          Facility  Revenue\n",
       "0     Squash Court    682.5\n",
       "1   Massage Room 2    267.3\n",
       "2     Table Tennis     90.0\n",
       "3    Snooker Table    115.0\n",
       "4       Pool Table    265.0\n",
       "5  Badminton Court    604.5"
      ]
     },
     "execution_count": 3,
     "metadata": {},
     "output_type": "execute_result"
    }
   ],
   "source": [
    "\n",
    "df = query((\"\"\"\n",
    "SELECT facility, SUM(cost) FROM (\n",
    "\tSELECT f.name AS facility, SUM(f.membercost) AS cost\n",
    "\tFROM Facilities AS f\n",
    "\tINNER JOIN Bookings AS b\n",
    "\tON b.facid = f.facid\n",
    "    WHERE b.memid != 0\n",
    "\tGROUP BY facility\n",
    "UNION ALL\n",
    "\tSELECT f.name AS facility, SUM(f.guestcost) AS cost\n",
    "\tFROM Facilities AS f\n",
    "\tINNER JOIN Bookings AS b\n",
    "\tON b.facid = f.facid\n",
    "    WHERE b.memid = 0\n",
    "\tGROUP BY facility) as db\n",
    "WHERE cost < 1000\n",
    "GROUP BY facility\n",
    "ORDER BY cost DESC;\n",
    "\"\"\"),file, path=path)\n",
    "df.columns = ['Facility', 'Revenue']\n",
    "df\n",
    "\n",
    "#"
   ]
  },
  {
   "cell_type": "markdown",
   "metadata": {
    "nteract": {
     "transient": {
      "deleting": false
     }
    }
   },
   "source": [
    "____________________________________________________________________\n",
    "/* Q11: Produce a report of members and who recommended them in alphabetic surname,firstname order */\n"
   ]
  },
  {
   "cell_type": "code",
   "execution_count": 4,
   "metadata": {
    "jupyter": {
     "outputs_hidden": false,
     "source_hidden": false
    },
    "nteract": {
     "transient": {
      "deleting": false
     }
    }
   },
   "outputs": [
    {
     "data": {
      "text/html": [
       "<div>\n",
       "<style scoped>\n",
       "    .dataframe tbody tr th:only-of-type {\n",
       "        vertical-align: middle;\n",
       "    }\n",
       "\n",
       "    .dataframe tbody tr th {\n",
       "        vertical-align: top;\n",
       "    }\n",
       "\n",
       "    .dataframe thead th {\n",
       "        text-align: right;\n",
       "    }\n",
       "</style>\n",
       "<table border=\"1\" class=\"dataframe\">\n",
       "  <thead>\n",
       "    <tr style=\"text-align: right;\">\n",
       "      <th></th>\n",
       "      <th>LastName</th>\n",
       "      <th>FirstName</th>\n",
       "      <th>RecommendedBy</th>\n",
       "    </tr>\n",
       "  </thead>\n",
       "  <tbody>\n",
       "    <tr>\n",
       "      <th>0</th>\n",
       "      <td>Bader</td>\n",
       "      <td>Florence</td>\n",
       "      <td>Sarwin Ramnaresh</td>\n",
       "    </tr>\n",
       "    <tr>\n",
       "      <th>1</th>\n",
       "      <td>Baker</td>\n",
       "      <td>Anne</td>\n",
       "      <td>None</td>\n",
       "    </tr>\n",
       "    <tr>\n",
       "      <th>2</th>\n",
       "      <td>Baker</td>\n",
       "      <td>Timothy</td>\n",
       "      <td>Coplin Joan</td>\n",
       "    </tr>\n",
       "    <tr>\n",
       "      <th>3</th>\n",
       "      <td>Boothe</td>\n",
       "      <td>Tim</td>\n",
       "      <td>None</td>\n",
       "    </tr>\n",
       "    <tr>\n",
       "      <th>4</th>\n",
       "      <td>Butters</td>\n",
       "      <td>Gerald</td>\n",
       "      <td>Genting Matthew</td>\n",
       "    </tr>\n",
       "    <tr>\n",
       "      <th>5</th>\n",
       "      <td>Coplin</td>\n",
       "      <td>Joan</td>\n",
       "      <td>None</td>\n",
       "    </tr>\n",
       "    <tr>\n",
       "      <th>6</th>\n",
       "      <td>Crumpet</td>\n",
       "      <td>Erica</td>\n",
       "      <td>None</td>\n",
       "    </tr>\n",
       "    <tr>\n",
       "      <th>7</th>\n",
       "      <td>Dare</td>\n",
       "      <td>Nancy</td>\n",
       "      <td>None</td>\n",
       "    </tr>\n",
       "    <tr>\n",
       "      <th>8</th>\n",
       "      <td>Farrell</td>\n",
       "      <td>David</td>\n",
       "      <td>None</td>\n",
       "    </tr>\n",
       "    <tr>\n",
       "      <th>9</th>\n",
       "      <td>Farrell</td>\n",
       "      <td>Jemima</td>\n",
       "      <td>Baker Timothy</td>\n",
       "    </tr>\n",
       "    <tr>\n",
       "      <th>10</th>\n",
       "      <td>Farrell</td>\n",
       "      <td>Jemima</td>\n",
       "      <td>Pinker David</td>\n",
       "    </tr>\n",
       "    <tr>\n",
       "      <th>11</th>\n",
       "      <td>GUEST</td>\n",
       "      <td>GUEST</td>\n",
       "      <td>None</td>\n",
       "    </tr>\n",
       "    <tr>\n",
       "      <th>12</th>\n",
       "      <td>Genting</td>\n",
       "      <td>Matthew</td>\n",
       "      <td>Rumney Henrietta</td>\n",
       "    </tr>\n",
       "    <tr>\n",
       "      <th>13</th>\n",
       "      <td>Hunt</td>\n",
       "      <td>John</td>\n",
       "      <td>None</td>\n",
       "    </tr>\n",
       "    <tr>\n",
       "      <th>14</th>\n",
       "      <td>Jones</td>\n",
       "      <td>David</td>\n",
       "      <td>Jones Douglas</td>\n",
       "    </tr>\n",
       "    <tr>\n",
       "      <th>15</th>\n",
       "      <td>Jones</td>\n",
       "      <td>Douglas</td>\n",
       "      <td>None</td>\n",
       "    </tr>\n",
       "    <tr>\n",
       "      <th>16</th>\n",
       "      <td>Joplette</td>\n",
       "      <td>Janice</td>\n",
       "      <td>Dare Nancy</td>\n",
       "    </tr>\n",
       "    <tr>\n",
       "      <th>17</th>\n",
       "      <td>Joplette</td>\n",
       "      <td>Janice</td>\n",
       "      <td>Jones David</td>\n",
       "    </tr>\n",
       "    <tr>\n",
       "      <th>18</th>\n",
       "      <td>Mackenzie</td>\n",
       "      <td>Anna</td>\n",
       "      <td>None</td>\n",
       "    </tr>\n",
       "    <tr>\n",
       "      <th>19</th>\n",
       "      <td>Owen</td>\n",
       "      <td>Charles</td>\n",
       "      <td>None</td>\n",
       "    </tr>\n",
       "    <tr>\n",
       "      <th>20</th>\n",
       "      <td>Pinker</td>\n",
       "      <td>David</td>\n",
       "      <td>None</td>\n",
       "    </tr>\n",
       "    <tr>\n",
       "      <th>21</th>\n",
       "      <td>Purview</td>\n",
       "      <td>Millicent</td>\n",
       "      <td>Hunt John</td>\n",
       "    </tr>\n",
       "    <tr>\n",
       "      <th>22</th>\n",
       "      <td>Rownam</td>\n",
       "      <td>Tim</td>\n",
       "      <td>Boothe Tim</td>\n",
       "    </tr>\n",
       "    <tr>\n",
       "      <th>23</th>\n",
       "      <td>Rumney</td>\n",
       "      <td>Henrietta</td>\n",
       "      <td>None</td>\n",
       "    </tr>\n",
       "    <tr>\n",
       "      <th>24</th>\n",
       "      <td>Sarwin</td>\n",
       "      <td>Ramnaresh</td>\n",
       "      <td>None</td>\n",
       "    </tr>\n",
       "    <tr>\n",
       "      <th>25</th>\n",
       "      <td>Smith</td>\n",
       "      <td>Darren</td>\n",
       "      <td>Joplette Janice</td>\n",
       "    </tr>\n",
       "    <tr>\n",
       "      <th>26</th>\n",
       "      <td>Smith</td>\n",
       "      <td>Darren</td>\n",
       "      <td>Butters Gerald</td>\n",
       "    </tr>\n",
       "    <tr>\n",
       "      <th>27</th>\n",
       "      <td>Smith</td>\n",
       "      <td>Darren</td>\n",
       "      <td>Owen Charles</td>\n",
       "    </tr>\n",
       "    <tr>\n",
       "      <th>28</th>\n",
       "      <td>Smith</td>\n",
       "      <td>Darren</td>\n",
       "      <td>Smith Jack</td>\n",
       "    </tr>\n",
       "    <tr>\n",
       "      <th>29</th>\n",
       "      <td>Smith</td>\n",
       "      <td>Darren</td>\n",
       "      <td>Mackenzie Anna</td>\n",
       "    </tr>\n",
       "    <tr>\n",
       "      <th>30</th>\n",
       "      <td>Smith</td>\n",
       "      <td>Darren</td>\n",
       "      <td>None</td>\n",
       "    </tr>\n",
       "    <tr>\n",
       "      <th>31</th>\n",
       "      <td>Smith</td>\n",
       "      <td>Jack</td>\n",
       "      <td>None</td>\n",
       "    </tr>\n",
       "    <tr>\n",
       "      <th>32</th>\n",
       "      <td>Smith</td>\n",
       "      <td>Tracy</td>\n",
       "      <td>Worthington-Smyth Henry</td>\n",
       "    </tr>\n",
       "    <tr>\n",
       "      <th>33</th>\n",
       "      <td>Smith</td>\n",
       "      <td>Tracy</td>\n",
       "      <td>Purview Millicent</td>\n",
       "    </tr>\n",
       "    <tr>\n",
       "      <th>34</th>\n",
       "      <td>Smith</td>\n",
       "      <td>Tracy</td>\n",
       "      <td>Crumpet Erica</td>\n",
       "    </tr>\n",
       "    <tr>\n",
       "      <th>35</th>\n",
       "      <td>Stibbons</td>\n",
       "      <td>Ponder</td>\n",
       "      <td>Baker Anne</td>\n",
       "    </tr>\n",
       "    <tr>\n",
       "      <th>36</th>\n",
       "      <td>Stibbons</td>\n",
       "      <td>Ponder</td>\n",
       "      <td>Bader Florence</td>\n",
       "    </tr>\n",
       "    <tr>\n",
       "      <th>37</th>\n",
       "      <td>Tracy</td>\n",
       "      <td>Burton</td>\n",
       "      <td>Stibbons Ponder</td>\n",
       "    </tr>\n",
       "    <tr>\n",
       "      <th>38</th>\n",
       "      <td>Tupperware</td>\n",
       "      <td>Hyacinth</td>\n",
       "      <td>None</td>\n",
       "    </tr>\n",
       "    <tr>\n",
       "      <th>39</th>\n",
       "      <td>Worthington-Smyth</td>\n",
       "      <td>Henry</td>\n",
       "      <td>None</td>\n",
       "    </tr>\n",
       "  </tbody>\n",
       "</table>\n",
       "</div>"
      ],
      "text/plain": [
       "             LastName  FirstName            RecommendedBy\n",
       "0               Bader   Florence         Sarwin Ramnaresh\n",
       "1               Baker       Anne                     None\n",
       "2               Baker    Timothy              Coplin Joan\n",
       "3              Boothe        Tim                     None\n",
       "4             Butters     Gerald          Genting Matthew\n",
       "5              Coplin       Joan                     None\n",
       "6             Crumpet      Erica                     None\n",
       "7                Dare      Nancy                     None\n",
       "8             Farrell      David                     None\n",
       "9             Farrell     Jemima            Baker Timothy\n",
       "10            Farrell     Jemima             Pinker David\n",
       "11              GUEST      GUEST                     None\n",
       "12            Genting    Matthew         Rumney Henrietta\n",
       "13               Hunt       John                     None\n",
       "14              Jones      David            Jones Douglas\n",
       "15              Jones    Douglas                     None\n",
       "16           Joplette     Janice               Dare Nancy\n",
       "17           Joplette     Janice              Jones David\n",
       "18          Mackenzie       Anna                     None\n",
       "19               Owen    Charles                     None\n",
       "20             Pinker      David                     None\n",
       "21            Purview  Millicent                Hunt John\n",
       "22             Rownam        Tim               Boothe Tim\n",
       "23             Rumney  Henrietta                     None\n",
       "24             Sarwin  Ramnaresh                     None\n",
       "25              Smith     Darren          Joplette Janice\n",
       "26              Smith     Darren           Butters Gerald\n",
       "27              Smith     Darren             Owen Charles\n",
       "28              Smith     Darren               Smith Jack\n",
       "29              Smith     Darren           Mackenzie Anna\n",
       "30              Smith     Darren                     None\n",
       "31              Smith       Jack                     None\n",
       "32              Smith      Tracy  Worthington-Smyth Henry\n",
       "33              Smith      Tracy        Purview Millicent\n",
       "34              Smith      Tracy            Crumpet Erica\n",
       "35           Stibbons     Ponder               Baker Anne\n",
       "36           Stibbons     Ponder           Bader Florence\n",
       "37              Tracy     Burton          Stibbons Ponder\n",
       "38         Tupperware   Hyacinth                     None\n",
       "39  Worthington-Smyth      Henry                     None"
      ]
     },
     "execution_count": 4,
     "metadata": {},
     "output_type": "execute_result"
    }
   ],
   "source": [
    "\n",
    "df = query(\"\"\"\n",
    "SELECT m.surname, m.firstname, (r.surname || ' ' || r.firstname)\n",
    "FROM Members AS m\n",
    "LEFT JOIN Members AS r\n",
    "ON r.recommendedby = m.memid\n",
    "ORDER BY m.surname, m.firstname;\n",
    "\"\"\", file, path=path)\n",
    "df.columns = ['LastName', 'FirstName', 'RecommendedBy']\n",
    "df\n",
    "#"
   ]
  },
  {
   "cell_type": "markdown",
   "metadata": {
    "nteract": {
     "transient": {
      "deleting": false
     }
    }
   },
   "source": [
    "____________________________________________________________________\n",
    "/* Q12: Find the facilities with their usage by member, but not guests */\n"
   ]
  },
  {
   "cell_type": "code",
   "execution_count": 5,
   "metadata": {
    "jupyter": {
     "outputs_hidden": false,
     "source_hidden": false
    },
    "nteract": {
     "transient": {
      "deleting": false
     }
    }
   },
   "outputs": [
    {
     "data": {
      "text/html": [
       "<div>\n",
       "<style scoped>\n",
       "    .dataframe tbody tr th:only-of-type {\n",
       "        vertical-align: middle;\n",
       "    }\n",
       "\n",
       "    .dataframe tbody tr th {\n",
       "        vertical-align: top;\n",
       "    }\n",
       "\n",
       "    .dataframe thead th {\n",
       "        text-align: right;\n",
       "    }\n",
       "</style>\n",
       "<table border=\"1\" class=\"dataframe\">\n",
       "  <thead>\n",
       "    <tr style=\"text-align: right;\">\n",
       "      <th></th>\n",
       "      <th>Facility</th>\n",
       "      <th>UsageByMember</th>\n",
       "    </tr>\n",
       "  </thead>\n",
       "  <tbody>\n",
       "    <tr>\n",
       "      <th>0</th>\n",
       "      <td>Pool Table</td>\n",
       "      <td>836</td>\n",
       "    </tr>\n",
       "    <tr>\n",
       "      <th>1</th>\n",
       "      <td>Massage Room 1</td>\n",
       "      <td>629</td>\n",
       "    </tr>\n",
       "    <tr>\n",
       "      <th>2</th>\n",
       "      <td>Snooker Table</td>\n",
       "      <td>444</td>\n",
       "    </tr>\n",
       "    <tr>\n",
       "      <th>3</th>\n",
       "      <td>Squash Court</td>\n",
       "      <td>440</td>\n",
       "    </tr>\n",
       "    <tr>\n",
       "      <th>4</th>\n",
       "      <td>Tennis Court 1</td>\n",
       "      <td>408</td>\n",
       "    </tr>\n",
       "    <tr>\n",
       "      <th>5</th>\n",
       "      <td>Table Tennis</td>\n",
       "      <td>403</td>\n",
       "    </tr>\n",
       "    <tr>\n",
       "      <th>6</th>\n",
       "      <td>Tennis Court 2</td>\n",
       "      <td>389</td>\n",
       "    </tr>\n",
       "    <tr>\n",
       "      <th>7</th>\n",
       "      <td>Badminton Court</td>\n",
       "      <td>383</td>\n",
       "    </tr>\n",
       "    <tr>\n",
       "      <th>8</th>\n",
       "      <td>Massage Room 2</td>\n",
       "      <td>111</td>\n",
       "    </tr>\n",
       "  </tbody>\n",
       "</table>\n",
       "</div>"
      ],
      "text/plain": [
       "          Facility  UsageByMember\n",
       "0       Pool Table            836\n",
       "1   Massage Room 1            629\n",
       "2    Snooker Table            444\n",
       "3     Squash Court            440\n",
       "4   Tennis Court 1            408\n",
       "5     Table Tennis            403\n",
       "6   Tennis Court 2            389\n",
       "7  Badminton Court            383\n",
       "8   Massage Room 2            111"
      ]
     },
     "execution_count": 5,
     "metadata": {},
     "output_type": "execute_result"
    }
   ],
   "source": [
    "\n",
    "df = query(\"\"\"\n",
    "SELECT f.name AS facility, sub.usage AS usage\n",
    "FROM Facilities AS f\n",
    "JOIN (SELECT facid, COUNT(memid) AS usage\n",
    "FROM Bookings\n",
    "GROUP BY facid) AS sub\n",
    "ON f.facid = sub.facid\n",
    "ORDER by usage DESC\n",
    ";\"\"\", file, path=path)\n",
    "df.columns = ['Facility', 'UsageByMember']\n",
    "df\n",
    "#"
   ]
  },
  {
   "cell_type": "markdown",
   "metadata": {
    "nteract": {
     "transient": {
      "deleting": false
     }
    }
   },
   "source": [
    "____________________________________________________________________\n",
    "/* Q13: Find the facilities usage by month, but not guests */\n"
   ]
  },
  {
   "cell_type": "code",
   "execution_count": 6,
   "metadata": {
    "jupyter": {
     "outputs_hidden": false,
     "source_hidden": false
    },
    "nteract": {
     "transient": {
      "deleting": false
     }
    }
   },
   "outputs": [
    {
     "data": {
      "text/html": [
       "<div>\n",
       "<style scoped>\n",
       "    .dataframe tbody tr th:only-of-type {\n",
       "        vertical-align: middle;\n",
       "    }\n",
       "\n",
       "    .dataframe tbody tr th {\n",
       "        vertical-align: top;\n",
       "    }\n",
       "\n",
       "    .dataframe thead th {\n",
       "        text-align: right;\n",
       "    }\n",
       "</style>\n",
       "<table border=\"1\" class=\"dataframe\">\n",
       "  <thead>\n",
       "    <tr style=\"text-align: right;\">\n",
       "      <th></th>\n",
       "      <th>UsageByMonth</th>\n",
       "    </tr>\n",
       "  </thead>\n",
       "  <tbody>\n",
       "    <tr>\n",
       "      <th>Tennis Court 1</th>\n",
       "      <td>308</td>\n",
       "    </tr>\n",
       "    <tr>\n",
       "      <th>Tennis Court 2</th>\n",
       "      <td>276</td>\n",
       "    </tr>\n",
       "    <tr>\n",
       "      <th>Badminton Court</th>\n",
       "      <td>344</td>\n",
       "    </tr>\n",
       "    <tr>\n",
       "      <th>Table Tennis</th>\n",
       "      <td>385</td>\n",
       "    </tr>\n",
       "    <tr>\n",
       "      <th>Massage Room 1</th>\n",
       "      <td>421</td>\n",
       "    </tr>\n",
       "    <tr>\n",
       "      <th>Massage Room 2</th>\n",
       "      <td>27</td>\n",
       "    </tr>\n",
       "    <tr>\n",
       "      <th>Squash Court</th>\n",
       "      <td>195</td>\n",
       "    </tr>\n",
       "    <tr>\n",
       "      <th>Snooker Table</th>\n",
       "      <td>421</td>\n",
       "    </tr>\n",
       "    <tr>\n",
       "      <th>Pool Table</th>\n",
       "      <td>783</td>\n",
       "    </tr>\n",
       "  </tbody>\n",
       "</table>\n",
       "</div>"
      ],
      "text/plain": [
       "                 UsageByMonth\n",
       "Tennis Court 1            308\n",
       "Tennis Court 2            276\n",
       "Badminton Court           344\n",
       "Table Tennis              385\n",
       "Massage Room 1            421\n",
       "Massage Room 2             27\n",
       "Squash Court              195\n",
       "Snooker Table             421\n",
       "Pool Table                783"
      ]
     },
     "execution_count": 6,
     "metadata": {},
     "output_type": "execute_result"
    }
   ],
   "source": [
    "\n",
    "df = query(\"\"\"\n",
    "SELECT f.name AS facility, sub.usage AS usage\n",
    "FROM Facilities AS f\n",
    "JOIN (SELECT facid, STRFTIME('%m', starttime) AS usage\n",
    "FROM Bookings\n",
    "WHERE memid != 0) AS sub\n",
    "ON f.facid = sub.facid\n",
    "ORDER by usage DESC\n",
    ";\"\"\", file, path=path)\n",
    "df.columns = ['Facility', 'UsageByMonth']\n",
    "\n",
    "facs = list(df.set_index('Facility').index.unique())\n",
    "d = {}\n",
    "for fac in facs:\n",
    "\td[fac] = df[df['Facility'] == fac].count()\n",
    "df = pd.DataFrame(d)\n",
    "df = df.transpose()\n",
    "del df['Facility']\n",
    "df"
   ]
  }
 ],
 "metadata": {
  "kernelspec": {
   "display_name": "Python 3",
   "language": "python",
   "name": "python3"
  },
  "language_info": {
   "codemirror_mode": {
    "name": "ipython",
    "version": 3
   },
   "file_extension": ".py",
   "mimetype": "text/x-python",
   "name": "python",
   "nbconvert_exporter": "python",
   "pygments_lexer": "ipython3",
   "version": "3.7.6"
  }
 },
 "nbformat": 4,
 "nbformat_minor": 1
}
